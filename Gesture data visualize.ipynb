{
 "cells": [
  {
   "cell_type": "code",
   "execution_count": 1,
   "id": "owned-monster",
   "metadata": {},
   "outputs": [],
   "source": [
    "import json\n",
    "import pandas as pd\n",
    "import numpy as np\n",
    "import matplotlib.pyplot as plt\n",
    "import scipy.stats"
   ]
  },
  {
   "cell_type": "code",
   "execution_count": 2,
   "id": "sonic-talent",
   "metadata": {},
   "outputs": [],
   "source": [
    "camera_data_file = \"./gesture_data/gesture_data_1678840679.json\"\n",
    "phone_data_file = \"./gesture_data_phone/chait.csv\""
   ]
  },
  {
   "cell_type": "markdown",
   "id": "applicable-worthy",
   "metadata": {},
   "source": [
    "# Camera data analysis"
   ]
  },
  {
   "cell_type": "code",
   "execution_count": 3,
   "id": "theoretical-scoop",
   "metadata": {},
   "outputs": [],
   "source": [
    "f = open(camera_data_file)\n",
    "data = json.load(f)\n",
    "p = []\n",
    "  \n",
    "for pose_id in data:\n",
    "    p.append([pose_id, len(data[pose_id])])\n",
    "  \n",
    "# Closing file\n",
    "f.close()"
   ]
  },
  {
   "cell_type": "code",
   "execution_count": 4,
   "id": "incredible-colleague",
   "metadata": {},
   "outputs": [],
   "source": [
    "p = pd.DataFrame(p).sort_values(1, ascending=False)"
   ]
  },
  {
   "cell_type": "code",
   "execution_count": 5,
   "id": "intended-marker",
   "metadata": {},
   "outputs": [
    {
     "data": {
      "text/html": [
       "<div>\n",
       "<style scoped>\n",
       "    .dataframe tbody tr th:only-of-type {\n",
       "        vertical-align: middle;\n",
       "    }\n",
       "\n",
       "    .dataframe tbody tr th {\n",
       "        vertical-align: top;\n",
       "    }\n",
       "\n",
       "    .dataframe thead th {\n",
       "        text-align: right;\n",
       "    }\n",
       "</style>\n",
       "<table border=\"1\" class=\"dataframe\">\n",
       "  <thead>\n",
       "    <tr style=\"text-align: right;\">\n",
       "      <th></th>\n",
       "      <th>0</th>\n",
       "      <th>1</th>\n",
       "    </tr>\n",
       "  </thead>\n",
       "  <tbody>\n",
       "    <tr>\n",
       "      <th>232</th>\n",
       "      <td>232</td>\n",
       "      <td>2231</td>\n",
       "    </tr>\n",
       "    <tr>\n",
       "      <th>247</th>\n",
       "      <td>247</td>\n",
       "      <td>2035</td>\n",
       "    </tr>\n",
       "    <tr>\n",
       "      <th>311</th>\n",
       "      <td>311</td>\n",
       "      <td>528</td>\n",
       "    </tr>\n",
       "    <tr>\n",
       "      <th>437</th>\n",
       "      <td>437</td>\n",
       "      <td>209</td>\n",
       "    </tr>\n",
       "    <tr>\n",
       "      <th>276</th>\n",
       "      <td>276</td>\n",
       "      <td>127</td>\n",
       "    </tr>\n",
       "    <tr>\n",
       "      <th>...</th>\n",
       "      <td>...</td>\n",
       "      <td>...</td>\n",
       "    </tr>\n",
       "    <tr>\n",
       "      <th>105</th>\n",
       "      <td>105</td>\n",
       "      <td>1</td>\n",
       "    </tr>\n",
       "    <tr>\n",
       "      <th>317</th>\n",
       "      <td>317</td>\n",
       "      <td>1</td>\n",
       "    </tr>\n",
       "    <tr>\n",
       "      <th>316</th>\n",
       "      <td>316</td>\n",
       "      <td>1</td>\n",
       "    </tr>\n",
       "    <tr>\n",
       "      <th>315</th>\n",
       "      <td>315</td>\n",
       "      <td>1</td>\n",
       "    </tr>\n",
       "    <tr>\n",
       "      <th>592</th>\n",
       "      <td>592</td>\n",
       "      <td>1</td>\n",
       "    </tr>\n",
       "  </tbody>\n",
       "</table>\n",
       "<p>593 rows × 2 columns</p>\n",
       "</div>"
      ],
      "text/plain": [
       "       0     1\n",
       "232  232  2231\n",
       "247  247  2035\n",
       "311  311   528\n",
       "437  437   209\n",
       "276  276   127\n",
       "..   ...   ...\n",
       "105  105     1\n",
       "317  317     1\n",
       "316  316     1\n",
       "315  315     1\n",
       "592  592     1\n",
       "\n",
       "[593 rows x 2 columns]"
      ]
     },
     "execution_count": 5,
     "metadata": {},
     "output_type": "execute_result"
    }
   ],
   "source": [
    "p"
   ]
  },
  {
   "cell_type": "code",
   "execution_count": 6,
   "id": "adverse-membrane",
   "metadata": {},
   "outputs": [],
   "source": [
    "def get_data_for_ind(data, ind):\n",
    "    processed_data = [] \n",
    "    for d in data[ind]:\n",
    "        r = [int(d[\"time\"]*1000)]\n",
    "        for k in d[\"keypoints\"]:\n",
    "            r.append(k[0])\n",
    "            r.append(k[1])\n",
    "        processed_data.append(r)\n",
    "\n",
    "    data = pd.DataFrame(processed_data)\n",
    "\n",
    "    left_wrist_index = 7\n",
    "    right_wrist_index = 4\n",
    "\n",
    "    index_plot = right_wrist_index*2 + 1\n",
    "\n",
    "    final_data = data[[0, index_plot]].loc[data[index_plot]!=-1].values\n",
    "\n",
    "    final_data[:,0] = final_data[:, 0] - final_data[0,0]\n",
    "    final_data = pd.DataFrame(final_data)\n",
    "\n",
    "    rel = pd.DataFrame({0: list(range(0,int(final_data.iloc[-1][0]),10))})\n",
    "\n",
    "    final_data  = rel.set_index(0, drop=True).join(final_data.set_index(0, drop=True), how=\"outer\").interpolate()\n",
    "    camera_data = final_data.values[:,0]\n",
    "    camera_data = (camera_data - np.mean(camera_data))/np.std(camera_data)\n",
    "    return camera_data"
   ]
  },
  {
   "cell_type": "code",
   "execution_count": 7,
   "id": "ecological-special",
   "metadata": {},
   "outputs": [],
   "source": [
    "p1_data = get_data_for_ind(data, '232')"
   ]
  },
  {
   "cell_type": "code",
   "execution_count": 8,
   "id": "assumed-emphasis",
   "metadata": {},
   "outputs": [],
   "source": [
    "p2_data = get_data_for_ind(data, '247')"
   ]
  },
  {
   "cell_type": "markdown",
   "id": "minus-mexico",
   "metadata": {},
   "source": [
    "# phone data visualization"
   ]
  },
  {
   "cell_type": "code",
   "execution_count": 9,
   "id": "dimensional-keeping",
   "metadata": {},
   "outputs": [],
   "source": [
    "data = pd.read_csv(phone_data_file, sep='\\t')\n",
    "\n",
    "data[[0,1,2]] = data[\"data\"].str.split(\",\", expand=True)\n",
    "for i in range(3):\n",
    "    data[i] = data[i].astype(float)\n",
    "\n",
    "def get_magnitude(d):\n",
    "    mag = np.sqrt(np.square(d.values).sum(axis=1))\n",
    "    return mag\n",
    "\n",
    "data[\"mag\"] = get_magnitude(data[[0,1,2]])"
   ]
  },
  {
   "cell_type": "code",
   "execution_count": 10,
   "id": "english-safety",
   "metadata": {},
   "outputs": [],
   "source": [
    "accel_data = data[data[\"datatype\"]==\"accel\"][[\"Timestamp\", 0]].sort_values(\"Timestamp\")"
   ]
  },
  {
   "cell_type": "code",
   "execution_count": 11,
   "id": "mature-dayton",
   "metadata": {},
   "outputs": [],
   "source": [
    "accel_data[\"Timestamp\"] = (accel_data[\"Timestamp\"] - accel_data.iloc[0][\"Timestamp\"]).astype(int)"
   ]
  },
  {
   "cell_type": "code",
   "execution_count": 12,
   "id": "caring-boards",
   "metadata": {},
   "outputs": [],
   "source": [
    "rel = pd.DataFrame({\"Timestamp\": list(range(0,int(accel_data.iloc[-1][\"Timestamp\"]),10))})"
   ]
  },
  {
   "cell_type": "code",
   "execution_count": 13,
   "id": "streaming-currency",
   "metadata": {},
   "outputs": [],
   "source": [
    "accel  = rel.set_index(\"Timestamp\", drop=True).join(accel_data.set_index(\"Timestamp\", drop=True), how=\"outer\").interpolate()"
   ]
  },
  {
   "cell_type": "code",
   "execution_count": 16,
   "id": "superb-clearing",
   "metadata": {},
   "outputs": [],
   "source": [
    "phone_data = accel.loc[2500:15000].values[:,0]"
   ]
  },
  {
   "cell_type": "markdown",
   "id": "killing-duncan",
   "metadata": {},
   "source": [
    "# Correlation Analysis "
   ]
  },
  {
   "cell_type": "code",
   "execution_count": 17,
   "id": "spectacular-thermal",
   "metadata": {},
   "outputs": [],
   "source": [
    "phone_data = (phone_data - np.mean(phone_data))/np.std(phone_data)"
   ]
  },
  {
   "cell_type": "code",
   "execution_count": 24,
   "id": "southern-shower",
   "metadata": {},
   "outputs": [],
   "source": [
    "camera_data = p1_data"
   ]
  },
  {
   "cell_type": "code",
   "execution_count": 25,
   "id": "backed-johns",
   "metadata": {},
   "outputs": [],
   "source": [
    "max_corr = 0.0\n",
    "max_ind = 0\n",
    "for ind in range(camera_data.size-phone_data.size+1):\n",
    "    data_seg = camera_data[ind:ind+phone_data.size]\n",
    "    corr_val = scipy.stats.spearmanr(data_seg, phone_data).correlation\n",
    "    if corr_val > max_corr:\n",
    "        max_corr = corr_val\n",
    "        max_ind = ind"
   ]
  },
  {
   "cell_type": "code",
   "execution_count": 26,
   "id": "animated-racing",
   "metadata": {},
   "outputs": [
    {
     "data": {
      "text/plain": [
       "[<matplotlib.lines.Line2D at 0x7f17dbb0f220>]"
      ]
     },
     "execution_count": 26,
     "metadata": {},
     "output_type": "execute_result"
    },
    {
     "data": {
      "image/png": "[encoded data removed]",
      "text/plain": [
       "<Figure size 432x288 with 1 Axes>"
      ]
     },
     "metadata": {
      "needs_background": "light"
     },
     "output_type": "display_data"
    }
   ],
   "source": [
    "plt.plot(camera_data)\n",
    "plt.plot(list(range(max_ind, max_ind+phone_data.size)), phone_data)"
   ]
  },
  {
   "cell_type": "code",
   "execution_count": 27,
   "id": "homeless-friend",
   "metadata": {},
   "outputs": [
    {
     "data": {
      "text/plain": [
       "0.7805327810038467"
      ]
     },
     "execution_count": 27,
     "metadata": {},
     "output_type": "execute_result"
    }
   ],
   "source": [
    "max_corr"
   ]
  },
  {
   "cell_type": "code",
   "execution_count": null,
   "id": "measured-plenty",
   "metadata": {},
   "outputs": [],
   "source": []
  }
 ],
 "metadata": {
  "kernelspec": {
   "display_name": "Python 3",
   "language": "python",
   "name": "python3"
  },
  "language_info": {
   "codemirror_mode": {
    "name": "ipython",
    "version": 3
   },
   "file_extension": ".py",
   "mimetype": "text/x-python",
   "name": "python",
   "nbconvert_exporter": "python",
   "pygments_lexer": "ipython3",
   "version": "3.8.10"
  }
 },
 "nbformat": 4,
 "nbformat_minor": 5
}
